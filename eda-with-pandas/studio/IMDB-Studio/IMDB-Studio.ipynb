{
 "cells": [
  {
   "cell_type": "markdown",
   "id": "2f470e67-1623-4416-b9c2-8367f7834a26",
   "metadata": {},
   "source": [
    "# Exploratory Data Analysis with pandas Studio\n",
    "\n",
    "## Data Analysis of IMDB movies data\n",
    "\n",
    "#### Blocks have been created for your code\n",
    "\n",
    "#### Click on the following link and download the dataset from [Kaggle](https://www.kaggle.com/PromptCloudHQ/imdb-data)."
   ]
  },
  {
   "cell_type": "markdown",
   "id": "34632281-1e15-44b1-a3e3-b82ddacb5cbd",
   "metadata": {},
   "source": [
    "### 1. Read data"
   ]
  },
  {
   "cell_type": "code",
   "execution_count": 11,
   "id": "070ebed9-c948-4821-9a24-67f0e3fe8fce",
   "metadata": {},
   "outputs": [],
   "source": [
    "# import pandas\n",
    "import pandas as pd\n",
    "\n",
    "# create your data variabe using .read_csv \n",
    "data_file = pd.read_csv('IMDB-Movie-Data.csv')\n",
    "\n",
    "# create your data_indexed variable here\n",
    "indexed_df = [\"Title\", \"Genre\", \"Description\", \"Director\", \"Actors\", \"Year\", \"Runtime\", \"Rating\", \"Votes\", \"Revenue\", \"Metascrore\"]\n"
   ]
  },
  {
   "cell_type": "code",
   "execution_count": 12,
   "id": "608c357a-271b-49c1-9b96-68b5c1cb7046",
   "metadata": {},
   "outputs": [],
   "source": [
    "# If you are having trouble reading your file, try finding the path.  \n",
    "    # Right click on your data set, on the pop-up menu select \"Copy Path\" then paste it into your read_csv() function."
   ]
  },
  {
   "cell_type": "code",
   "execution_count": 13,
   "id": "5d8b578c-750c-491b-98d5-140a237ad940",
   "metadata": {},
   "outputs": [
    {
     "name": "stdout",
     "output_type": "stream",
     "text": [
      "     Rank                    Title                     Genre  \\\n",
      "0       1  Guardians of the Galaxy   Action,Adventure,Sci-Fi   \n",
      "1       2               Prometheus  Adventure,Mystery,Sci-Fi   \n",
      "2       3                    Split           Horror,Thriller   \n",
      "3       4                     Sing   Animation,Comedy,Family   \n",
      "4       5            Suicide Squad  Action,Adventure,Fantasy   \n",
      "..    ...                      ...                       ...   \n",
      "995   996     Secret in Their Eyes       Crime,Drama,Mystery   \n",
      "996   997          Hostel: Part II                    Horror   \n",
      "997   998   Step Up 2: The Streets       Drama,Music,Romance   \n",
      "998   999             Search Party          Adventure,Comedy   \n",
      "999  1000               Nine Lives     Comedy,Family,Fantasy   \n",
      "\n",
      "                                           Description              Director  \\\n",
      "0    A group of intergalactic criminals are forced ...            James Gunn   \n",
      "1    Following clues to the origin of mankind, a te...          Ridley Scott   \n",
      "2    Three girls are kidnapped by a man with a diag...    M. Night Shyamalan   \n",
      "3    In a city of humanoid animals, a hustling thea...  Christophe Lourdelet   \n",
      "4    A secret government agency recruits some of th...            David Ayer   \n",
      "..                                                 ...                   ...   \n",
      "995  A tight-knit team of rising investigators, alo...             Billy Ray   \n",
      "996  Three American college students studying abroa...              Eli Roth   \n",
      "997  Romantic sparks occur between two dance studen...            Jon M. Chu   \n",
      "998  A pair of friends embark on a mission to reuni...        Scot Armstrong   \n",
      "999  A stuffy businessman finds himself trapped ins...      Barry Sonnenfeld   \n",
      "\n",
      "                                                Actors  Year  \\\n",
      "0    Chris Pratt, Vin Diesel, Bradley Cooper, Zoe S...  2014   \n",
      "1    Noomi Rapace, Logan Marshall-Green, Michael Fa...  2012   \n",
      "2    James McAvoy, Anya Taylor-Joy, Haley Lu Richar...  2016   \n",
      "3    Matthew McConaughey,Reese Witherspoon, Seth Ma...  2016   \n",
      "4    Will Smith, Jared Leto, Margot Robbie, Viola D...  2016   \n",
      "..                                                 ...   ...   \n",
      "995  Chiwetel Ejiofor, Nicole Kidman, Julia Roberts...  2015   \n",
      "996  Lauren German, Heather Matarazzo, Bijou Philli...  2007   \n",
      "997  Robert Hoffman, Briana Evigan, Cassie Ventura,...  2008   \n",
      "998  Adam Pally, T.J. Miller, Thomas Middleditch,Sh...  2014   \n",
      "999  Kevin Spacey, Jennifer Garner, Robbie Amell,Ch...  2016   \n",
      "\n",
      "     Runtime (Minutes)  Rating   Votes  Revenue (Millions)  Metascore  \n",
      "0                  121     8.1  757074              333.13       76.0  \n",
      "1                  124     7.0  485820              126.46       65.0  \n",
      "2                  117     7.3  157606              138.12       62.0  \n",
      "3                  108     7.2   60545              270.32       59.0  \n",
      "4                  123     6.2  393727              325.02       40.0  \n",
      "..                 ...     ...     ...                 ...        ...  \n",
      "995                111     6.2   27585                 NaN       45.0  \n",
      "996                 94     5.5   73152               17.54       46.0  \n",
      "997                 98     6.2   70699               58.01       50.0  \n",
      "998                 93     5.6    4881                 NaN       22.0  \n",
      "999                 87     5.3   12435               19.64       11.0  \n",
      "\n",
      "[1000 rows x 12 columns]\n"
     ]
    }
   ],
   "source": [
    "# Read data with specified explicit index\n",
    "# data_indexed = pd.Series(data_file)\n",
    "\n",
    "print(data_file)"
   ]
  },
  {
   "cell_type": "markdown",
   "id": "f449d3ea-91fe-45f5-8d6b-e6ccab3502d7",
   "metadata": {
    "tags": []
   },
   "source": [
    "### 2. View Data\n",
    "#### As we go through this section, write your own definitions of what each function does as a comment in the code box."
   ]
  },
  {
   "cell_type": "code",
   "execution_count": 14,
   "id": "ac9b2d61-7ed5-4e83-995d-c498036f37f9",
   "metadata": {},
   "outputs": [
    {
     "name": "stdout",
     "output_type": "stream",
     "text": [
      "   Rank                    Title                     Genre  \\\n",
      "0     1  Guardians of the Galaxy   Action,Adventure,Sci-Fi   \n",
      "1     2               Prometheus  Adventure,Mystery,Sci-Fi   \n",
      "2     3                    Split           Horror,Thriller   \n",
      "3     4                     Sing   Animation,Comedy,Family   \n",
      "4     5            Suicide Squad  Action,Adventure,Fantasy   \n",
      "\n",
      "                                         Description              Director  \\\n",
      "0  A group of intergalactic criminals are forced ...            James Gunn   \n",
      "1  Following clues to the origin of mankind, a te...          Ridley Scott   \n",
      "2  Three girls are kidnapped by a man with a diag...    M. Night Shyamalan   \n",
      "3  In a city of humanoid animals, a hustling thea...  Christophe Lourdelet   \n",
      "4  A secret government agency recruits some of th...            David Ayer   \n",
      "\n",
      "                                              Actors  Year  Runtime (Minutes)  \\\n",
      "0  Chris Pratt, Vin Diesel, Bradley Cooper, Zoe S...  2014                121   \n",
      "1  Noomi Rapace, Logan Marshall-Green, Michael Fa...  2012                124   \n",
      "2  James McAvoy, Anya Taylor-Joy, Haley Lu Richar...  2016                117   \n",
      "3  Matthew McConaughey,Reese Witherspoon, Seth Ma...  2016                108   \n",
      "4  Will Smith, Jared Leto, Margot Robbie, Viola D...  2016                123   \n",
      "\n",
      "   Rating   Votes  Revenue (Millions)  Metascore  \n",
      "0     8.1  757074              333.13       76.0  \n",
      "1     7.0  485820              126.46       65.0  \n",
      "2     7.3  157606              138.12       62.0  \n",
      "3     7.2   60545              270.32       59.0  \n",
      "4     6.2  393727              325.02       40.0  \n"
     ]
    }
   ],
   "source": [
    "# Use the head() function to view the first 5 rows of the data set\n",
    "\n",
    "print(data_file.head(5))"
   ]
  },
  {
   "cell_type": "code",
   "execution_count": 15,
   "id": "3fffca4b-90f4-4f73-a9af-f0b02886f8b3",
   "metadata": {},
   "outputs": [
    {
     "name": "stdout",
     "output_type": "stream",
     "text": [
      "     Rank                   Title                  Genre  \\\n",
      "995   996    Secret in Their Eyes    Crime,Drama,Mystery   \n",
      "996   997         Hostel: Part II                 Horror   \n",
      "997   998  Step Up 2: The Streets    Drama,Music,Romance   \n",
      "998   999            Search Party       Adventure,Comedy   \n",
      "999  1000              Nine Lives  Comedy,Family,Fantasy   \n",
      "\n",
      "                                           Description          Director  \\\n",
      "995  A tight-knit team of rising investigators, alo...         Billy Ray   \n",
      "996  Three American college students studying abroa...          Eli Roth   \n",
      "997  Romantic sparks occur between two dance studen...        Jon M. Chu   \n",
      "998  A pair of friends embark on a mission to reuni...    Scot Armstrong   \n",
      "999  A stuffy businessman finds himself trapped ins...  Barry Sonnenfeld   \n",
      "\n",
      "                                                Actors  Year  \\\n",
      "995  Chiwetel Ejiofor, Nicole Kidman, Julia Roberts...  2015   \n",
      "996  Lauren German, Heather Matarazzo, Bijou Philli...  2007   \n",
      "997  Robert Hoffman, Briana Evigan, Cassie Ventura,...  2008   \n",
      "998  Adam Pally, T.J. Miller, Thomas Middleditch,Sh...  2014   \n",
      "999  Kevin Spacey, Jennifer Garner, Robbie Amell,Ch...  2016   \n",
      "\n",
      "     Runtime (Minutes)  Rating  Votes  Revenue (Millions)  Metascore  \n",
      "995                111     6.2  27585                 NaN       45.0  \n",
      "996                 94     5.5  73152               17.54       46.0  \n",
      "997                 98     6.2  70699               58.01       50.0  \n",
      "998                 93     5.6   4881                 NaN       22.0  \n",
      "999                 87     5.3  12435               19.64       11.0  \n"
     ]
    }
   ],
   "source": [
    "# Use the tail() function to view the last 5 rows of the data set\n",
    "print(data_file.tail(5))\n"
   ]
  },
  {
   "cell_type": "markdown",
   "id": "e03bbc57-a8cf-48da-9057-3b1f6b642a08",
   "metadata": {},
   "source": [
    "### 3. Understand basic information about the data\n",
    "#### As we go through this section, write your own definitions of what each function does as a comment in the code box."
   ]
  },
  {
   "cell_type": "code",
   "execution_count": 16,
   "id": "f303e7fb-0e02-48e2-8390-66eefca899aa",
   "metadata": {},
   "outputs": [
    {
     "name": "stdout",
     "output_type": "stream",
     "text": [
      "<class 'pandas.core.frame.DataFrame'>\n",
      "RangeIndex: 1000 entries, 0 to 999\n",
      "Data columns (total 12 columns):\n",
      " #   Column              Non-Null Count  Dtype  \n",
      "---  ------              --------------  -----  \n",
      " 0   Rank                1000 non-null   int64  \n",
      " 1   Title               1000 non-null   object \n",
      " 2   Genre               1000 non-null   object \n",
      " 3   Description         1000 non-null   object \n",
      " 4   Director            1000 non-null   object \n",
      " 5   Actors              1000 non-null   object \n",
      " 6   Year                1000 non-null   int64  \n",
      " 7   Runtime (Minutes)   1000 non-null   int64  \n",
      " 8   Rating              1000 non-null   float64\n",
      " 9   Votes               1000 non-null   int64  \n",
      " 10  Revenue (Millions)  872 non-null    float64\n",
      " 11  Metascore           936 non-null    float64\n",
      "dtypes: float64(3), int64(4), object(5)\n",
      "memory usage: 93.9+ KB\n"
     ]
    }
   ],
   "source": [
    "# The info() function: \n",
    "data_file.info()\n",
    "\n",
    "# Info function provides summary data for df"
   ]
  },
  {
   "cell_type": "code",
   "execution_count": 17,
   "id": "ade5ce1f-7a2a-4940-a0f9-eed7891154ff",
   "metadata": {},
   "outputs": [
    {
     "data": {
      "text/plain": [
       "(1000, 12)"
      ]
     },
     "execution_count": 17,
     "metadata": {},
     "output_type": "execute_result"
    }
   ],
   "source": [
    "# shape:\n",
    "data_file.shape\n",
    "\n",
    "# what information does shape provide?  what is the order?\n",
    "\n",
    "# Shape function provides the number of records in the dataframe and how many columns"
   ]
  },
  {
   "cell_type": "code",
   "execution_count": 18,
   "id": "791db782-5041-4259-a3e4-d14c6e2e248a",
   "metadata": {},
   "outputs": [
    {
     "data": {
      "text/plain": [
       "Index(['Rank', 'Title', 'Genre', 'Description', 'Director', 'Actors', 'Year',\n",
       "       'Runtime (Minutes)', 'Rating', 'Votes', 'Revenue (Millions)',\n",
       "       'Metascore'],\n",
       "      dtype='object')"
      ]
     },
     "execution_count": 18,
     "metadata": {},
     "output_type": "execute_result"
    }
   ],
   "source": [
    "# columns:\n",
    "data_file.columns\n",
    "\n",
    "# what information does columns provide?\n",
    "\n",
    "# The columns function provides the names of all the Columns"
   ]
  },
  {
   "cell_type": "code",
   "execution_count": 19,
   "id": "994c8783-3f4b-4f56-b9fb-1b50193f1fab",
   "metadata": {},
   "outputs": [
    {
     "data": {
      "text/plain": [
       "<bound method NDFrame.describe of      Rank                    Title                     Genre  \\\n",
       "0       1  Guardians of the Galaxy   Action,Adventure,Sci-Fi   \n",
       "1       2               Prometheus  Adventure,Mystery,Sci-Fi   \n",
       "2       3                    Split           Horror,Thriller   \n",
       "3       4                     Sing   Animation,Comedy,Family   \n",
       "4       5            Suicide Squad  Action,Adventure,Fantasy   \n",
       "..    ...                      ...                       ...   \n",
       "995   996     Secret in Their Eyes       Crime,Drama,Mystery   \n",
       "996   997          Hostel: Part II                    Horror   \n",
       "997   998   Step Up 2: The Streets       Drama,Music,Romance   \n",
       "998   999             Search Party          Adventure,Comedy   \n",
       "999  1000               Nine Lives     Comedy,Family,Fantasy   \n",
       "\n",
       "                                           Description              Director  \\\n",
       "0    A group of intergalactic criminals are forced ...            James Gunn   \n",
       "1    Following clues to the origin of mankind, a te...          Ridley Scott   \n",
       "2    Three girls are kidnapped by a man with a diag...    M. Night Shyamalan   \n",
       "3    In a city of humanoid animals, a hustling thea...  Christophe Lourdelet   \n",
       "4    A secret government agency recruits some of th...            David Ayer   \n",
       "..                                                 ...                   ...   \n",
       "995  A tight-knit team of rising investigators, alo...             Billy Ray   \n",
       "996  Three American college students studying abroa...              Eli Roth   \n",
       "997  Romantic sparks occur between two dance studen...            Jon M. Chu   \n",
       "998  A pair of friends embark on a mission to reuni...        Scot Armstrong   \n",
       "999  A stuffy businessman finds himself trapped ins...      Barry Sonnenfeld   \n",
       "\n",
       "                                                Actors  Year  \\\n",
       "0    Chris Pratt, Vin Diesel, Bradley Cooper, Zoe S...  2014   \n",
       "1    Noomi Rapace, Logan Marshall-Green, Michael Fa...  2012   \n",
       "2    James McAvoy, Anya Taylor-Joy, Haley Lu Richar...  2016   \n",
       "3    Matthew McConaughey,Reese Witherspoon, Seth Ma...  2016   \n",
       "4    Will Smith, Jared Leto, Margot Robbie, Viola D...  2016   \n",
       "..                                                 ...   ...   \n",
       "995  Chiwetel Ejiofor, Nicole Kidman, Julia Roberts...  2015   \n",
       "996  Lauren German, Heather Matarazzo, Bijou Philli...  2007   \n",
       "997  Robert Hoffman, Briana Evigan, Cassie Ventura,...  2008   \n",
       "998  Adam Pally, T.J. Miller, Thomas Middleditch,Sh...  2014   \n",
       "999  Kevin Spacey, Jennifer Garner, Robbie Amell,Ch...  2016   \n",
       "\n",
       "     Runtime (Minutes)  Rating   Votes  Revenue (Millions)  Metascore  \n",
       "0                  121     8.1  757074              333.13       76.0  \n",
       "1                  124     7.0  485820              126.46       65.0  \n",
       "2                  117     7.3  157606              138.12       62.0  \n",
       "3                  108     7.2   60545              270.32       59.0  \n",
       "4                  123     6.2  393727              325.02       40.0  \n",
       "..                 ...     ...     ...                 ...        ...  \n",
       "995                111     6.2   27585                 NaN       45.0  \n",
       "996                 94     5.5   73152               17.54       46.0  \n",
       "997                 98     6.2   70699               58.01       50.0  \n",
       "998                 93     5.6    4881                 NaN       22.0  \n",
       "999                 87     5.3   12435               19.64       11.0  \n",
       "\n",
       "[1000 rows x 12 columns]>"
      ]
     },
     "execution_count": 19,
     "metadata": {},
     "output_type": "execute_result"
    }
   ],
   "source": [
    "# The describe() function: \n",
    "\n",
    "data_file.describe\n",
    "\n",
    "# The describe function offers a summary of statistical calcs like  such as mean, standard deviation, min, max, and quartile values"
   ]
  },
  {
   "cell_type": "markdown",
   "id": "7293ea51-6d32-43ab-8d26-268bdea21de1",
   "metadata": {},
   "source": [
    "### 4. Data Selection -- Indexing and Slicing"
   ]
  },
  {
   "cell_type": "code",
   "execution_count": 20,
   "id": "b3e134af-4ef9-4a9f-9ee1-d507905764e7",
   "metadata": {},
   "outputs": [
    {
     "name": "stdout",
     "output_type": "stream",
     "text": [
      "0       Action,Adventure,Sci-Fi\n",
      "1      Adventure,Mystery,Sci-Fi\n",
      "2               Horror,Thriller\n",
      "3       Animation,Comedy,Family\n",
      "4      Action,Adventure,Fantasy\n",
      "                 ...           \n",
      "995         Crime,Drama,Mystery\n",
      "996                      Horror\n",
      "997         Drama,Music,Romance\n",
      "998            Adventure,Comedy\n",
      "999       Comedy,Family,Fantasy\n",
      "Name: Genre, Length: 1000, dtype: object\n"
     ]
    }
   ],
   "source": [
    "#  Extract data as series\n",
    "# define and print the variable 'genre'\n",
    "genre_series = data_file['Genre']\n",
    "\n",
    "print(genre_series)\n",
    "\n"
   ]
  },
  {
   "cell_type": "code",
   "execution_count": 21,
   "id": "33307a39-0656-4598-8489-55bc80a253eb",
   "metadata": {},
   "outputs": [
    {
     "name": "stdout",
     "output_type": "stream",
     "text": [
      "                       Title                     Genre\n",
      "0    Guardians of the Galaxy   Action,Adventure,Sci-Fi\n",
      "1                 Prometheus  Adventure,Mystery,Sci-Fi\n",
      "2                      Split           Horror,Thriller\n",
      "3                       Sing   Animation,Comedy,Family\n",
      "4              Suicide Squad  Action,Adventure,Fantasy\n",
      "..                       ...                       ...\n",
      "995     Secret in Their Eyes       Crime,Drama,Mystery\n",
      "996          Hostel: Part II                    Horror\n",
      "997   Step Up 2: The Streets       Drama,Music,Romance\n",
      "998             Search Party          Adventure,Comedy\n",
      "999               Nine Lives     Comedy,Family,Fantasy\n",
      "\n",
      "[1000 rows x 2 columns]\n"
     ]
    }
   ],
   "source": [
    "# Extract the data as a dataframe and print it\n",
    "movies_dataframe = pd.DataFrame(data_file)\n",
    "\n",
    "# Pull aside the Name and Genre columns from the movies_dataframe\n",
    "movie_names_and_genres = movies_dataframe[[\"Title\", \"Genre\"]]\n",
    "\n",
    "print(movie_names_and_genres)\n",
    "\n"
   ]
  },
  {
   "cell_type": "code",
   "execution_count": 22,
   "id": "0530ffd1-e143-4a7a-a4e2-c2e88de188f9",
   "metadata": {},
   "outputs": [
    {
     "data": {
      "text/plain": [
       "Rank                                                                  4\n",
       "Title                                                              Sing\n",
       "Genre                                           Animation,Comedy,Family\n",
       "Description           In a city of humanoid animals, a hustling thea...\n",
       "Director                                           Christophe Lourdelet\n",
       "Actors                Matthew McConaughey,Reese Witherspoon, Seth Ma...\n",
       "Year                                                               2016\n",
       "Runtime (Minutes)                                                   108\n",
       "Rating                                                              7.2\n",
       "Votes                                                             60545\n",
       "Revenue (Millions)                                               270.32\n",
       "Metascore                                                          59.0\n",
       "Name: 3, dtype: object"
      ]
     },
     "execution_count": 22,
     "metadata": {},
     "output_type": "execute_result"
    }
   ],
   "source": [
    "# Extract data using rows\n",
    "movies_dataframe.loc[3]\n",
    "\n",
    "# loc function\n",
    "# Locate rows based on label-indexing\n",
    "\n"
   ]
  },
  {
   "cell_type": "code",
   "execution_count": 23,
   "id": "7ed5a16d-7302-4c0c-bf9e-0295a8cee090",
   "metadata": {},
   "outputs": [
    {
     "data": {
      "text/plain": [
       "Rank                                                                  4\n",
       "Title                                                              Sing\n",
       "Genre                                           Animation,Comedy,Family\n",
       "Description           In a city of humanoid animals, a hustling thea...\n",
       "Director                                           Christophe Lourdelet\n",
       "Actors                Matthew McConaughey,Reese Witherspoon, Seth Ma...\n",
       "Year                                                               2016\n",
       "Runtime (Minutes)                                                   108\n",
       "Rating                                                              7.2\n",
       "Votes                                                             60545\n",
       "Revenue (Millions)                                               270.32\n",
       "Metascore                                                          59.0\n",
       "Name: 3, dtype: object"
      ]
     },
     "execution_count": 23,
     "metadata": {},
     "output_type": "execute_result"
    }
   ],
   "source": [
    "# iloc function\n",
    "movies_dataframe.iloc[3]\n",
    "\n",
    "# iloc function\n",
    "# Locate rows based on index-position\n"
   ]
  },
  {
   "cell_type": "markdown",
   "id": "35d10282-730f-49c3-bca1-55a990811c80",
   "metadata": {},
   "source": [
    "### 5. Data Selection - Based on Conditional Filtering"
   ]
  },
  {
   "cell_type": "code",
   "execution_count": 24,
   "id": "97cac6a1-dd88-4a8c-86e8-514312bf1bb0",
   "metadata": {},
   "outputs": [
    {
     "name": "stdout",
     "output_type": "stream",
     "text": [
      "     Rank                                              Title  \\\n",
      "244   245  Percy Jackson & the Olympians: The Lightning T...   \n",
      "428   429                                        Srpski film   \n",
      "575   576                                Clash of the Titans   \n",
      "581   582                                 The Last Airbender   \n",
      "888   889                                         Piranha 3D   \n",
      "941   942                         The Twilight Saga: Eclipse   \n",
      "952   953                                 Sex and the City 2   \n",
      "956   957                                             Legion   \n",
      "993   994                           Resident Evil: Afterlife   \n",
      "\n",
      "                        Genre  \\\n",
      "244  Adventure,Family,Fantasy   \n",
      "428   Horror,Mystery,Thriller   \n",
      "575  Action,Adventure,Fantasy   \n",
      "581   Action,Adventure,Family   \n",
      "888    Comedy,Horror,Thriller   \n",
      "941   Adventure,Drama,Fantasy   \n",
      "952      Comedy,Drama,Romance   \n",
      "956     Action,Fantasy,Horror   \n",
      "993   Action,Adventure,Horror   \n",
      "\n",
      "                                           Description              Director  \\\n",
      "244  A teenager discovers he's the descendant of a ...        Chris Columbus   \n",
      "428  An aging porn star agrees to participate in an...     Srdjan Spasojevic   \n",
      "575  Perseus demigod, son of Zeus, battles the mini...       Louis Leterrier   \n",
      "581  Follows the adventures of Aang, a young succes...    M. Night Shyamalan   \n",
      "888  After a sudden underwater tremor sets free sco...         Alexandre Aja   \n",
      "941  As a string of mysterious killings grips Seatt...           David Slade   \n",
      "952  While wrestling with the pressures of life, lo...  Michael Patrick King   \n",
      "956  When a group of strangers at a dusty roadside ...         Scott Stewart   \n",
      "993  While still out to destroy the evil Umbrella C...    Paul W.S. Anderson   \n",
      "\n",
      "                                                Actors  Year  \\\n",
      "244  Logan Lerman, Kevin McKidd, Steve Coogan,Brand...  2010   \n",
      "428  Srdjan 'Zika' Todorovic, Sergej Trifunovic,Jel...  2010   \n",
      "575  Sam Worthington, Liam Neeson, Ralph Fiennes,Ja...  2010   \n",
      "581  Noah Ringer, Nicola Peltz, Jackson Rathbone,De...  2010   \n",
      "888  Elisabeth Shue, Jerry O'Connell, Richard Dreyf...  2010   \n",
      "941  Kristen Stewart, Robert Pattinson, Taylor Laut...  2010   \n",
      "952  Sarah Jessica Parker, Kim Cattrall, Kristin Da...  2010   \n",
      "956  Paul Bettany, Dennis Quaid, Charles S. Dutton,...  2010   \n",
      "993  Milla Jovovich, Ali Larter, Wentworth Miller,K...  2010   \n",
      "\n",
      "     Runtime (Minutes)  Rating   Votes  Revenue (Millions)  Metascore  \n",
      "244                118     5.9  148949               88.76       47.0  \n",
      "428                104     5.2   43648                 NaN       55.0  \n",
      "575                106     5.8  238206              163.19       39.0  \n",
      "581                103     4.2  125129                 NaN       20.0  \n",
      "888                 88     5.5   75262               25.00       53.0  \n",
      "941                124     4.9  192740              300.52       58.0  \n",
      "952                146     4.3   62403               95.33       27.0  \n",
      "956                100     5.2   84158               40.17       32.0  \n",
      "993                 97     5.9  140900               60.13       37.0  \n"
     ]
    }
   ],
   "source": [
    "# Use the code block to select movies that have been released between 2010-2016, with a rating of less than 6.0, but generated a signifianct (top) revenue.\n",
    "#movies_dataframe['Year'] <=2016\n",
    "#Year 2010-2016\n",
    "#Rating less than 6.0\n",
    "#movies_dataframe['Rating'] < 6 &\n",
    "#Top revenue\n",
    "\n",
    "movie_custom = movies_dataframe[(movies_dataframe['Year'] == 2010) & (movies_dataframe['Rating'] < 6) ]\n",
    "# movie_rating = movies_dataframe[movies_dataframe['Rating'] < 6]\n",
    "# movie_revenue = movies_dataframe.max\n",
    "\n",
    "print(movie_custom)\n",
    "# print(movie_rating)\n",
    "# print(movie_revenue)"
   ]
  },
  {
   "cell_type": "code",
   "execution_count": 25,
   "id": "f0c045a1-200a-4d58-9b9f-480edb106765",
   "metadata": {},
   "outputs": [],
   "source": [
    "# Note: The article is expecting more than 1 Twilight movie at the time of publishing.  \n",
    "#To find the second Twilight movie, try manipulating the quantile value.  \n",
    "#How specific can you get?"
   ]
  },
  {
   "cell_type": "code",
   "execution_count": null,
   "id": "5f04a46e-5d8e-4bda-a917-945bdc81a9e2",
   "metadata": {},
   "outputs": [],
   "source": []
  }
 ],
 "metadata": {
  "kernelspec": {
   "display_name": "Python 3 (ipykernel)",
   "language": "python",
   "name": "python3"
  },
  "language_info": {
   "codemirror_mode": {
    "name": "ipython",
    "version": 3
   },
   "file_extension": ".py",
   "mimetype": "text/x-python",
   "name": "python",
   "nbconvert_exporter": "python",
   "pygments_lexer": "ipython3",
   "version": "3.10.3"
  }
 },
 "nbformat": 4,
 "nbformat_minor": 5
}
